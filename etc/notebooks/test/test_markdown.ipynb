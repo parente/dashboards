{
 "cells": [
  {
   "cell_type": "markdown",
   "metadata": {
    "urth": {
     "dashboard": {
      "layout": {
       "col": 0,
       "height": 4,
       "row": 0,
       "width": 5
      }
     }
    },
    "urth_section": {
     "id": "1"
    }
   },
   "source": [
    "# Test Markdown Conversion"
   ]
  },
  {
   "cell_type": "markdown",
   "metadata": {
    "urth": {
     "dashboard": {
      "layout": {
       "col": 9,
       "height": 4,
       "row": 0,
       "width": 2
      }
     }
    },
    "urth_section": {
     "id": "2"
    }
   },
   "source": [
    "I am a markdown cell with no HTML wrapping my **content** which includes [a link in markdown](http://ibm.com)"
   ]
  },
  {
   "cell_type": "markdown",
   "metadata": {
    "urth": {
     "dashboard": {
      "layout": {
       "col": 7,
       "height": 4,
       "row": 0,
       "width": 2
      }
     }
    },
    "urth_section": {
     "id": "3"
    }
   },
   "source": [
    "<small>I am a markdown cell with HTML &lt;small&gt; wrapping my **content** which includes [a link in markdown](http://ibm.com)</small>"
   ]
  },
  {
   "cell_type": "code",
   "execution_count": null,
   "metadata": {
    "collapsed": false,
    "urth": {
     "dashboard": {
      "layout": {
       "col": 5,
       "height": 4,
       "row": 0,
       "width": 2
      }
     }
    },
    "urth_section": {
     "id": "4"
    }
   },
   "outputs": [],
   "source": [
    "%%html\n",
    "<small>I am a code %%html cell with &lt;small&gt; wrapping my <strong>content</strong> which includes <a href=\"http://ibm.com\">a link in HTML</a></small>"
   ]
  }
 ],
 "metadata": {
  "celltoolbar": "Section",
  "kernelspec": {
   "display_name": "Python 3",
   "language": "python",
   "name": "python3"
  },
  "language_info": {
   "codemirror_mode": {
    "name": "ipython",
    "version": 3
   },
   "file_extension": ".py",
   "mimetype": "text/x-python",
   "name": "python",
   "nbconvert_exporter": "python",
   "pygments_lexer": "ipython3",
   "version": "3.4.3"
  },
  "urth": {
   "dashboard": {
    "cellMargin": 10,
    "defaultCellHeight": 20,
    "maxColumns": 12
   }
  }
 },
 "nbformat": 4,
 "nbformat_minor": 0
}
